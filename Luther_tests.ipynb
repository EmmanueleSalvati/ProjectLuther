{
 "metadata": {
  "name": "",
  "signature": "sha256:fc5e0017e4921e4d2e03d5e3721a31b40bf7031f18afc62484cb99b89ecb1614"
 },
 "nbformat": 3,
 "nbformat_minor": 0,
 "worksheets": [
  {
   "cells": [
    {
     "cell_type": "code",
     "collapsed": false,
     "input": [
      "import numpy as np\n",
      "import pandas as pd\n",
      "\n",
      "import sys\n",
      "sys.path.append('/Users/es575/Metis/Projects/ProjectLuther/')"
     ],
     "language": "python",
     "metadata": {},
     "outputs": [],
     "prompt_number": 1
    },
    {
     "cell_type": "code",
     "collapsed": false,
     "input": [
      "import pickle as pkl\n",
      "with open(\"/Users/es575/Dropbox/Metis_Dropbox/Datasets/Luther/BoxOfficeMojo_political_documentaries_DataFrame.pkl\") as pklfile:\n",
      "    raw_political = pkl.load(pklfile)\n",
      "    \n",
      "with open(\"/Users/es575/Dropbox/Metis_Dropbox/Datasets/Luther/BoxOfficeMojo_documentaries_DataFrame.pkl\") as pklfile:\n",
      "    raw_docums = pkl.load(pklfile)"
     ],
     "language": "python",
     "metadata": {},
     "outputs": [],
     "prompt_number": 58
    },
    {
     "cell_type": "code",
     "collapsed": false,
     "input": [
      "import dataframe_utils\n",
      "reload(dataframe_utils)\n",
      "\n",
      "raw_political['RelDate'] = raw_political['RelDate'].apply(dataframe_utils.str_to_datetime)\n",
      "raw_docums['RelDate'] = raw_docums['RelDate'].apply(dataframe_utils.str_to_datetime)"
     ],
     "language": "python",
     "metadata": {},
     "outputs": [],
     "prompt_number": 59
    },
    {
     "cell_type": "code",
     "collapsed": false,
     "input": [
      "political = dataframe_utils.polish_dataframe(raw_political)\n",
      "docums = dataframe_utils.polish_dataframe(raw_docums)"
     ],
     "language": "python",
     "metadata": {},
     "outputs": [],
     "prompt_number": 60
    },
    {
     "cell_type": "code",
     "collapsed": false,
     "input": [
      "political = political.sort(['RelDate'])\n",
      "docums = docums.sort(['RelDate'])"
     ],
     "language": "python",
     "metadata": {},
     "outputs": [],
     "prompt_number": 61
    },
    {
     "cell_type": "markdown",
     "metadata": {},
     "source": [
      "### Plot Total Gross V Release Date"
     ]
    },
    {
     "cell_type": "code",
     "collapsed": false,
     "input": [
      "dates = []\n",
      "gross = []\n",
      "for value in political['RelDate'].values:\n",
      "    dates.append(value)\n",
      "for value in political['TotalGross'].values:\n",
      "    gross.append(value / 1e6)"
     ],
     "language": "python",
     "metadata": {},
     "outputs": [],
     "prompt_number": 80
    },
    {
     "cell_type": "code",
     "collapsed": false,
     "input": [
      "%matplotlib inline\n",
      "import matplotlib.pyplot as plt "
     ],
     "language": "python",
     "metadata": {},
     "outputs": [],
     "prompt_number": 63
    },
    {
     "cell_type": "code",
     "collapsed": false,
     "input": [
      "plt.plot(dates, gross, 'ro')\n",
      "\n",
      "plt.title('History of box office for political documentaries\\n')\n",
      "plt.xlabel('Release year')\n",
      "plt.ylabel('Box Office (millions)')\n",
      "plt.ylim(ymin=-5)\n",
      "# plt.yscale('log')"
     ],
     "language": "python",
     "metadata": {},
     "outputs": [
      {
       "metadata": {},
       "output_type": "pyout",
       "prompt_number": 107,
       "text": [
        "(-5, 120.0)"
       ]
      },
      {
       "metadata": {},
       "output_type": "display_data",
       "png": "[encoded data removed]",
       "text": [
        "<matplotlib.figure.Figure at 0x11276f050>"
       ]
      }
     ],
     "prompt_number": 107
    },
    {
     "cell_type": "code",
     "collapsed": false,
     "input": [
      "all_dates = []\n",
      "all_gross = []\n",
      "for value in docums['RelDate'].values:\n",
      "    all_dates.append(value)\n",
      "for value in docums['TotalGross'].values:\n",
      "    all_gross.append(value / 1e6)"
     ],
     "language": "python",
     "metadata": {},
     "outputs": [],
     "prompt_number": 65
    },
    {
     "cell_type": "code",
     "collapsed": false,
     "input": [
      "plt.plot(all_dates, all_gross, 'gs')\n",
      "\n",
      "plt.title('History of box office for all documentaries\\n')\n",
      "plt.xlabel('Release year')\n",
      "plt.ylabel('Box Office (millions)')\n",
      "plt.ylim(ymin=-5)"
     ],
     "language": "python",
     "metadata": {},
     "outputs": [
      {
       "metadata": {},
       "output_type": "pyout",
       "prompt_number": 108,
       "text": [
        "(-5, 120.0)"
       ]
      },
      {
       "metadata": {},
       "output_type": "display_data",
       "png": "[encoded data removed]",
       "text": [
        "<matplotlib.figure.Figure at 0x112d54cd0>"
       ]
      }
     ],
     "prompt_number": 108
    },
    {
     "cell_type": "code",
     "collapsed": false,
     "input": [
      "political.describe()"
     ],
     "language": "python",
     "metadata": {},
     "outputs": [
      {
       "html": [
        "<div style=\"max-height:1000px;max-width:1500px;overflow:auto;\">\n",
        "<table border=\"1\" class=\"dataframe\">\n",
        "  <thead>\n",
        "    <tr style=\"text-align: right;\">\n",
        "      <th></th>\n",
        "      <th>Rank</th>\n",
        "      <th>TotalGross</th>\n",
        "      <th>TotalTheaters</th>\n",
        "      <th>OpenGross</th>\n",
        "      <th>OpenTheatres</th>\n",
        "    </tr>\n",
        "  </thead>\n",
        "  <tbody>\n",
        "    <tr>\n",
        "      <th>count</th>\n",
        "      <td> 117.000000</td>\n",
        "      <td> 1.170000e+02</td>\n",
        "      <td>  117.000000</td>\n",
        "      <td>      117.000000</td>\n",
        "      <td>  117.000000</td>\n",
        "    </tr>\n",
        "    <tr>\n",
        "      <th>mean</th>\n",
        "      <td>  61.478632</td>\n",
        "      <td> 2.589937e+06</td>\n",
        "      <td>  108.017094</td>\n",
        "      <td>   263240.487179</td>\n",
        "      <td>   28.017094</td>\n",
        "    </tr>\n",
        "    <tr>\n",
        "      <th>std</th>\n",
        "      <td>  35.957973</td>\n",
        "      <td> 1.202926e+07</td>\n",
        "      <td>  327.711842</td>\n",
        "      <td>  2223313.827810</td>\n",
        "      <td>  134.933124</td>\n",
        "    </tr>\n",
        "    <tr>\n",
        "      <th>min</th>\n",
        "      <td>   1.000000</td>\n",
        "      <td> 1.088000e+03</td>\n",
        "      <td>    1.000000</td>\n",
        "      <td>      189.000000</td>\n",
        "      <td>    1.000000</td>\n",
        "    </tr>\n",
        "    <tr>\n",
        "      <th>25%</th>\n",
        "      <td>  30.000000</td>\n",
        "      <td> 1.823900e+04</td>\n",
        "      <td>    2.000000</td>\n",
        "      <td>     2996.000000</td>\n",
        "      <td>    1.000000</td>\n",
        "    </tr>\n",
        "    <tr>\n",
        "      <th>50%</th>\n",
        "      <td>  63.000000</td>\n",
        "      <td> 1.105770e+05</td>\n",
        "      <td>   10.000000</td>\n",
        "      <td>    11927.000000</td>\n",
        "      <td>    2.000000</td>\n",
        "    </tr>\n",
        "    <tr>\n",
        "      <th>75%</th>\n",
        "      <td>  92.000000</td>\n",
        "      <td> 3.844730e+05</td>\n",
        "      <td>   22.000000</td>\n",
        "      <td>    40673.000000</td>\n",
        "      <td>    5.000000</td>\n",
        "    </tr>\n",
        "    <tr>\n",
        "      <th>max</th>\n",
        "      <td> 123.000000</td>\n",
        "      <td> 1.191948e+08</td>\n",
        "      <td> 2017.000000</td>\n",
        "      <td> 23920637.000000</td>\n",
        "      <td> 1052.000000</td>\n",
        "    </tr>\n",
        "  </tbody>\n",
        "</table>\n",
        "</div>"
       ],
       "metadata": {},
       "output_type": "pyout",
       "prompt_number": 69,
       "text": [
        "             Rank    TotalGross  TotalTheaters        OpenGross  OpenTheatres\n",
        "count  117.000000  1.170000e+02     117.000000       117.000000    117.000000\n",
        "mean    61.478632  2.589937e+06     108.017094    263240.487179     28.017094\n",
        "std     35.957973  1.202926e+07     327.711842   2223313.827810    134.933124\n",
        "min      1.000000  1.088000e+03       1.000000       189.000000      1.000000\n",
        "25%     30.000000  1.823900e+04       2.000000      2996.000000      1.000000\n",
        "50%     63.000000  1.105770e+05      10.000000     11927.000000      2.000000\n",
        "75%     92.000000  3.844730e+05      22.000000     40673.000000      5.000000\n",
        "max    123.000000  1.191948e+08    2017.000000  23920637.000000   1052.000000"
       ]
      }
     ],
     "prompt_number": 69
    },
    {
     "cell_type": "code",
     "collapsed": false,
     "input": [
      "docums.describe()"
     ],
     "language": "python",
     "metadata": {},
     "outputs": [
      {
       "html": [
        "<div style=\"max-height:1000px;max-width:1500px;overflow:auto;\">\n",
        "<table border=\"1\" class=\"dataframe\">\n",
        "  <thead>\n",
        "    <tr style=\"text-align: right;\">\n",
        "      <th></th>\n",
        "      <th>Rank</th>\n",
        "      <th>TotalGross</th>\n",
        "      <th>TotalTheaters</th>\n",
        "      <th>OpenGross</th>\n",
        "      <th>OpenTheatres</th>\n",
        "    </tr>\n",
        "  </thead>\n",
        "  <tbody>\n",
        "    <tr>\n",
        "      <th>count</th>\n",
        "      <td> 1183.000000</td>\n",
        "      <td> 1.183000e+03</td>\n",
        "      <td> 1182.000000</td>\n",
        "      <td>     1183.000000</td>\n",
        "      <td> 1183.000000</td>\n",
        "    </tr>\n",
        "    <tr>\n",
        "      <th>mean</th>\n",
        "      <td>  630.240068</td>\n",
        "      <td> 8.998309e+05</td>\n",
        "      <td>   49.149746</td>\n",
        "      <td>   139098.340659</td>\n",
        "      <td>   26.612849</td>\n",
        "    </tr>\n",
        "    <tr>\n",
        "      <th>std</th>\n",
        "      <td>  363.412234</td>\n",
        "      <td> 5.359766e+06</td>\n",
        "      <td>  227.764590</td>\n",
        "      <td>  1326580.422373</td>\n",
        "      <td>  190.324748</td>\n",
        "    </tr>\n",
        "    <tr>\n",
        "      <th>min</th>\n",
        "      <td>    1.000000</td>\n",
        "      <td> 4.760000e+02</td>\n",
        "      <td>    1.000000</td>\n",
        "      <td>      189.000000</td>\n",
        "      <td>    1.000000</td>\n",
        "    </tr>\n",
        "    <tr>\n",
        "      <th>25%</th>\n",
        "      <td>  315.500000</td>\n",
        "      <td> 1.684200e+04</td>\n",
        "      <td>    2.000000</td>\n",
        "      <td>     3641.000000</td>\n",
        "      <td>    1.000000</td>\n",
        "    </tr>\n",
        "    <tr>\n",
        "      <th>50%</th>\n",
        "      <td>  632.000000</td>\n",
        "      <td> 6.029100e+04</td>\n",
        "      <td>    5.000000</td>\n",
        "      <td>     8044.000000</td>\n",
        "      <td>    1.000000</td>\n",
        "    </tr>\n",
        "    <tr>\n",
        "      <th>75%</th>\n",
        "      <td>  944.500000</td>\n",
        "      <td> 2.558030e+05</td>\n",
        "      <td>   16.000000</td>\n",
        "      <td>    21143.500000</td>\n",
        "      <td>    3.000000</td>\n",
        "    </tr>\n",
        "    <tr>\n",
        "      <th>max</th>\n",
        "      <td> 1264.000000</td>\n",
        "      <td> 1.191948e+08</td>\n",
        "      <td> 3118.000000</td>\n",
        "      <td> 29514054.000000</td>\n",
        "      <td> 3105.000000</td>\n",
        "    </tr>\n",
        "  </tbody>\n",
        "</table>\n",
        "</div>"
       ],
       "metadata": {},
       "output_type": "pyout",
       "prompt_number": 70,
       "text": [
        "              Rank    TotalGross  TotalTheaters        OpenGross  OpenTheatres\n",
        "count  1183.000000  1.183000e+03    1182.000000      1183.000000   1183.000000\n",
        "mean    630.240068  8.998309e+05      49.149746    139098.340659     26.612849\n",
        "std     363.412234  5.359766e+06     227.764590   1326580.422373    190.324748\n",
        "min       1.000000  4.760000e+02       1.000000       189.000000      1.000000\n",
        "25%     315.500000  1.684200e+04       2.000000      3641.000000      1.000000\n",
        "50%     632.000000  6.029100e+04       5.000000      8044.000000      1.000000\n",
        "75%     944.500000  2.558030e+05      16.000000     21143.500000      3.000000\n",
        "max    1264.000000  1.191948e+08    3118.000000  29514054.000000   3105.000000"
       ]
      }
     ],
     "prompt_number": 70
    },
    {
     "cell_type": "markdown",
     "metadata": {},
     "source": [
      "#### Conclusion: there are very few exceptions in terms of money made"
     ]
    },
    {
     "cell_type": "markdown",
     "metadata": {},
     "source": [
      "---\n",
      "### Plot Total Gross V Number of theaters"
     ]
    },
    {
     "cell_type": "code",
     "collapsed": false,
     "input": [
      "cinemas = []\n",
      "for value in political['TotalTheaters'].values:\n",
      "    cinemas.append(value)\n",
      "all_cinemas = []\n",
      "for value in docums['TotalTheaters'].values:\n",
      "    all_cinemas.append(value)"
     ],
     "language": "python",
     "metadata": {},
     "outputs": [],
     "prompt_number": 88
    },
    {
     "cell_type": "code",
     "collapsed": false,
     "input": [
      "plt.plot(cinemas, gross, 'ro')\n",
      "plt.title('Does the number of cinemas contribute to the total box office?\\n')\n",
      "plt.xlabel('Number of cinemas')\n",
      "plt.ylabel('Box Office (millions)')"
     ],
     "language": "python",
     "metadata": {},
     "outputs": [
      {
       "metadata": {},
       "output_type": "pyout",
       "prompt_number": 84,
       "text": [
        "<matplotlib.text.Text at 0x112ee5f90>"
       ]
      },
      {
       "metadata": {},
       "output_type": "display_data",
       "png": "[encoded data removed]",
       "text": [
        "<matplotlib.figure.Figure at 0x112db2b50>"
       ]
      }
     ],
     "prompt_number": 84
    },
    {
     "cell_type": "code",
     "collapsed": false,
     "input": [
      "plt.plot(cinemas, gross, 'ro')\n",
      "plt.title('Let\\'s look at a zoomed area\\n')\n",
      "plt.xlabel('Number of cinemas')\n",
      "plt.ylabel('Box Office (millions)')\n",
      "plt.xlim(xmax=100)\n",
      "plt.ylim(ymax=5)"
     ],
     "language": "python",
     "metadata": {},
     "outputs": [
      {
       "metadata": {},
       "output_type": "pyout",
       "prompt_number": 92,
       "text": [
        "(0.0, 5)"
       ]
      },
      {
       "metadata": {},
       "output_type": "display_data",
       "png": "[encoded data removed]",
       "text": [
        "<matplotlib.figure.Figure at 0x113134550>"
       ]
      }
     ],
     "prompt_number": 92
    },
    {
     "cell_type": "code",
     "collapsed": false,
     "input": [
      "plt.plot(all_cinemas, all_gross, 'gs')\n",
      "plt.title('Does the number of cinemas contribute to the total box office?\\n')\n",
      "plt.xlabel('Number of cinemas')\n",
      "plt.ylabel('Box Office (millions)')"
     ],
     "language": "python",
     "metadata": {},
     "outputs": [
      {
       "metadata": {},
       "output_type": "pyout",
       "prompt_number": 89,
       "text": [
        "<matplotlib.text.Text at 0x1138e09d0>"
       ]
      },
      {
       "metadata": {},
       "output_type": "display_data",
       "png": "[encoded data removed]",
       "text": [
        "<matplotlib.figure.Figure at 0x113780050>"
       ]
      }
     ],
     "prompt_number": 89
    },
    {
     "cell_type": "code",
     "collapsed": false,
     "input": [
      "plt.plot(all_cinemas, all_gross, 'gs')\n",
      "plt.title('Let\\'s look at a zoomed area\\n')\n",
      "plt.xlabel('Number of cinemas')\n",
      "plt.ylabel('Box Office (millions)')\n",
      "plt.xlim(xmax=500)\n",
      "plt.ylim(ymax=30)"
     ],
     "language": "python",
     "metadata": {},
     "outputs": [
      {
       "metadata": {},
       "output_type": "pyout",
       "prompt_number": 90,
       "text": [
        "(0.0, 30)"
       ]
      },
      {
       "metadata": {},
       "output_type": "display_data",
       "png": "[encoded data removed]",
       "text": [
        "<matplotlib.figure.Figure at 0x113a9a4d0>"
       ]
      }
     ],
     "prompt_number": 90
    },
    {
     "cell_type": "markdown",
     "metadata": {},
     "source": [
      "#### Conclusion: nothing to report\n",
      "\n",
      "---\n",
      "\n",
      "### Has there been a time in which people started making more documentaries?"
     ]
    },
    {
     "cell_type": "code",
     "collapsed": false,
     "input": [
      "whos"
     ],
     "language": "python",
     "metadata": {},
     "outputs": [
      {
       "output_type": "stream",
       "stream": "stdout",
       "text": [
        "Variable           Type         Data/Info\n",
        "-----------------------------------------\n",
        "all_cinemas        list         n=1183\n",
        "all_dates          list         n=1183\n",
        "all_gross          list         n=1183\n",
        "cinemas            list         n=117\n",
        "dataframe_utils    module       <module 'dataframe_utils'<...>her/dataframe_utils.pyc'>\n",
        "dates              list         n=117\n",
        "datetime           module       <module 'datetime' from '<...>lib-dynload/datetime.so'>\n",
        "docums             DataFrame                             <...>\\n[1183 rows x 7 columns]"
       ]
      },
      {
       "output_type": "stream",
       "stream": "stdout",
       "text": [
        "\n",
        "gross              list         n=117\n",
        "np                 module       <module 'numpy' from '/us<...>ages/numpy/__init__.pyc'>\n",
        "pd                 module       <module 'pandas' from '/u<...>ges/pandas/__init__.pyc'>\n",
        "pkl                module       <module 'pickle' from '/u<...>ib/python2.7/pickle.pyc'>\n",
        "pklfile            file         <closed file '/Users/es57<...> mode 'r' at 0x1119860c0>\n",
        "plt                module       <module 'matplotlib.pyplo<...>es/matplotlib/pyplot.py'>\n",
        "polish_docums      DataFrame                             <...>\\n[1183 rows x 7 columns]"
       ]
      },
      {
       "output_type": "stream",
       "stream": "stdout",
       "text": [
        "\n",
        "polish_political   DataFrame                             <...>n\\n[117 rows x 7 columns]"
       ]
      },
      {
       "output_type": "stream",
       "stream": "stdout",
       "text": [
        "\n",
        "political          DataFrame                             <...>n\\n[117 rows x 7 columns]"
       ]
      },
      {
       "output_type": "stream",
       "stream": "stdout",
       "text": [
        "\n",
        "raw_docums         DataFrame                             <...>\\n[1183 rows x 7 columns]"
       ]
      },
      {
       "output_type": "stream",
       "stream": "stdout",
       "text": [
        "\n",
        "raw_political      DataFrame                             <...>n\\n[117 rows x 7 columns]"
       ]
      },
      {
       "output_type": "stream",
       "stream": "stdout",
       "text": [
        "\n",
        "sys                module       <module 'sys' (built-in)>\n",
        "value              float64      3.0\n"
       ]
      }
     ],
     "prompt_number": 116
    },
    {
     "cell_type": "code",
     "collapsed": false,
     "input": [
      "from matplotlib.dates import date2num"
     ],
     "language": "python",
     "metadata": {},
     "outputs": [],
     "prompt_number": 117
    },
    {
     "cell_type": "code",
     "collapsed": false,
     "input": [
      "reload(dataframe_utils)\n",
      "political_dates = dataframe_utils.dt64_to_dt(dates)"
     ],
     "language": "python",
     "metadata": {},
     "outputs": [],
     "prompt_number": 152
    },
    {
     "cell_type": "code",
     "collapsed": false,
     "input": [
      "from matplotlib import ticker\n",
      "from matplotlib.dates import num2date\n",
      "\n",
      "plt.hist(date2num(political_dates), cumulative=True, bins=28)\n",
      "# The format for the x axis is set to the chosen string, as defined from a numerical date:\n",
      "plt.gca().xaxis.set_major_formatter(ticker.FuncFormatter(lambda numdate, _: num2date(numdate).strftime('%Y-%d-%m')))\n",
      "# The formatting proper is done:\n",
      "plt.gcf().autofmt_xdate()\n",
      "# To show the result:\n",
      "plt.show()  # or draw(), if you don't want to block"
     ],
     "language": "python",
     "metadata": {},
     "outputs": [
      {
       "metadata": {},
       "output_type": "display_data",
       "png": "[encoded data removed]",
       "text": [
        "<matplotlib.figure.Figure at 0x1140b4910>"
       ]
      }
     ],
     "prompt_number": 158
    },
    {
     "cell_type": "code",
     "collapsed": false,
     "input": [
      "docums_dates = dataframe_utils.dt64_to_dt(all_dates)"
     ],
     "language": "python",
     "metadata": {},
     "outputs": [],
     "prompt_number": 160
    },
    {
     "cell_type": "code",
     "collapsed": false,
     "input": [
      "plt.hist(date2num(docums_dates), cumulative=True, bins=28)\n",
      "plt.gca().xaxis.set_major_formatter(ticker.FuncFormatter(lambda numdate, _: num2date(numdate).strftime('%Y-%d-%m')))\n",
      "plt.gcf().autofmt_xdate()\n",
      "plt.show()"
     ],
     "language": "python",
     "metadata": {},
     "outputs": [
      {
       "metadata": {},
       "output_type": "display_data",
       "png": "[encoded data removed]",
       "text": [
        "<matplotlib.figure.Figure at 0x114135d10>"
       ]
      }
     ],
     "prompt_number": 161
    },
    {
     "cell_type": "code",
     "collapsed": false,
     "input": [],
     "language": "python",
     "metadata": {},
     "outputs": []
    }
   ],
   "metadata": {}
  }
 ]
}