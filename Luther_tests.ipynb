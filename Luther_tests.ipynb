{
 "metadata": {
  "name": "",
  "signature": "sha256:fdbf4adea63a919700cc8d0a36356fdd85cd6184aa9f638baa941bd0e4744478"
 },
 "nbformat": 3,
 "nbformat_minor": 0,
 "worksheets": [
  {
   "cells": [
    {
     "cell_type": "code",
     "collapsed": false,
     "input": [
      "import numpy as np\n",
      "import pandas as pd\n",
      "\n",
      "import sys\n",
      "sys.path.append('/Users/es575/Metis/Projects/ProjectLuther/')"
     ],
     "language": "python",
     "metadata": {},
     "outputs": [],
     "prompt_number": 1
    },
    {
     "cell_type": "code",
     "collapsed": false,
     "input": [
      "import pickle as pkl\n",
      "with open(\"/Users/es575/Dropbox/Metis_Dropbox/Datasets/Luther/BoxOfficeMojo_political_documentaries_DataFrame.pkl\") as pklfile:\n",
      "    raw_political = pkl.load(pklfile)\n",
      "    \n",
      "with open(\"/Users/es575/Dropbox/Metis_Dropbox/Datasets/Luther/BoxOfficeMojo_documentaries_DataFrame.pkl\") as pklfile:\n",
      "    raw_docums = pkl.load(pklfile)"
     ],
     "language": "python",
     "metadata": {},
     "outputs": [],
     "prompt_number": 58
    },
    {
     "cell_type": "code",
     "collapsed": false,
     "input": [
      "import dataframe_utils\n",
      "reload(dataframe_utils)\n",
      "\n",
      "raw_political['RelDate'] = raw_political['RelDate'].apply(dataframe_utils.str_to_datetime)\n",
      "raw_docums['RelDate'] = raw_docums['RelDate'].apply(dataframe_utils.str_to_datetime)"
     ],
     "language": "python",
     "metadata": {},
     "outputs": [],
     "prompt_number": 59
    },
    {
     "cell_type": "code",
     "collapsed": false,
     "input": [
      "political = dataframe_utils.polish_dataframe(raw_political)\n",
      "docums = dataframe_utils.polish_dataframe(raw_docums)"
     ],
     "language": "python",
     "metadata": {},
     "outputs": [],
     "prompt_number": 60
    },
    {
     "cell_type": "code",
     "collapsed": false,
     "input": [
      "political = political.sort(['RelDate'])\n",
      "docums = docums.sort(['RelDate'])"
     ],
     "language": "python",
     "metadata": {},
     "outputs": [],
     "prompt_number": 61
    },
    {
     "cell_type": "markdown",
     "metadata": {},
     "source": [
      "### Plot Total Gross V Release Date"
     ]
    },
    {
     "cell_type": "code",
     "collapsed": false,
     "input": [
      "dates = []\n",
      "gross = []\n",
      "for value in political['RelDate'].values:\n",
      "    dates.append(value)\n",
      "for value in political['TotalGross'].values:\n",
      "    gross.append(value / 1e6)"
     ],
     "language": "python",
     "metadata": {},
     "outputs": [],
     "prompt_number": 80
    },
    {
     "cell_type": "code",
     "collapsed": false,
     "input": [
      "%matplotlib inline\n",
      "import matplotlib.pyplot as plt "
     ],
     "language": "python",
     "metadata": {},
     "outputs": [],
     "prompt_number": 63
    },
    {
     "cell_type": "code",
     "collapsed": false,
     "input": [
      "plt.plot(dates, gross, 'ro')\n",
      "\n",
      "plt.title('History of box office for political documentaries\\n')\n",
      "plt.xlabel('Release year')\n",
      "plt.ylabel('Box Office (millions)')\n",
      "plt.ylim(ymin=-5)\n",
      "# plt.yscale('log')\n",
      "plt.savefig('/Users/es575/Metis/Projects/ProjectLuther/BoxOffice_political_bydate.pdf')"
     ],
     "language": "python",
     "metadata": {},
     "outputs": [
      {
       "metadata": {},
       "output_type": "display_data",
       "png": "[encoded data removed]",
       "text": [
        "<matplotlib.figure.Figure at 0x113744690>"
       ]
      }
     ],
     "prompt_number": 180
    },
    {
     "cell_type": "code",
     "collapsed": false,
     "input": [
      "all_dates = []\n",
      "all_gross = []\n",
      "for value in docums['RelDate'].values:\n",
      "    all_dates.append(value)\n",
      "for value in docums['TotalGross'].values:\n",
      "    all_gross.append(value / 1e6)"
     ],
     "language": "python",
     "metadata": {},
     "outputs": [],
     "prompt_number": 65
    },
    {
     "cell_type": "code",
     "collapsed": false,
     "input": [
      "plt.plot(all_dates, all_gross, 'gs')\n",
      "\n",
      "plt.title('History of box office for all documentaries\\n')\n",
      "plt.xlabel('Release year')\n",
      "plt.ylabel('Box Office (millions)')\n",
      "plt.ylim(ymin=-5)\n",
      "plt.savefig('/Users/es575/Metis/Projects/ProjectLuther/BoxOffice_docums_bydate.pdf')"
     ],
     "language": "python",
     "metadata": {},
     "outputs": [
      {
       "metadata": {},
       "output_type": "display_data",
       "png": "[encoded data removed]",
       "text": [
        "<matplotlib.figure.Figure at 0x11460e1d0>"
       ]
      }
     ],
     "prompt_number": 181
    },
    {
     "cell_type": "code",
     "collapsed": false,
     "input": [
      "political.describe()"
     ],
     "language": "python",
     "metadata": {},
     "outputs": [
      {
       "html": [
        "<div style=\"max-height:1000px;max-width:1500px;overflow:auto;\">\n",
        "<table border=\"1\" class=\"dataframe\">\n",
        "  <thead>\n",
        "    <tr style=\"text-align: right;\">\n",
        "      <th></th>\n",
        "      <th>Rank</th>\n",
        "      <th>TotalGross</th>\n",
        "      <th>TotalTheaters</th>\n",
        "      <th>OpenGross</th>\n",
        "      <th>OpenTheatres</th>\n",
        "    </tr>\n",
        "  </thead>\n",
        "  <tbody>\n",
        "    <tr>\n",
        "      <th>count</th>\n",
        "      <td> 117.000000</td>\n",
        "      <td> 1.170000e+02</td>\n",
        "      <td>  117.000000</td>\n",
        "      <td>      117.000000</td>\n",
        "      <td>  117.000000</td>\n",
        "    </tr>\n",
        "    <tr>\n",
        "      <th>mean</th>\n",
        "      <td>  61.478632</td>\n",
        "      <td> 2.589937e+06</td>\n",
        "      <td>  108.017094</td>\n",
        "      <td>   263240.487179</td>\n",
        "      <td>   28.017094</td>\n",
        "    </tr>\n",
        "    <tr>\n",
        "      <th>std</th>\n",
        "      <td>  35.957973</td>\n",
        "      <td> 1.202926e+07</td>\n",
        "      <td>  327.711842</td>\n",
        "      <td>  2223313.827810</td>\n",
        "      <td>  134.933124</td>\n",
        "    </tr>\n",
        "    <tr>\n",
        "      <th>min</th>\n",
        "      <td>   1.000000</td>\n",
        "      <td> 1.088000e+03</td>\n",
        "      <td>    1.000000</td>\n",
        "      <td>      189.000000</td>\n",
        "      <td>    1.000000</td>\n",
        "    </tr>\n",
        "    <tr>\n",
        "      <th>25%</th>\n",
        "      <td>  30.000000</td>\n",
        "      <td> 1.823900e+04</td>\n",
        "      <td>    2.000000</td>\n",
        "      <td>     2996.000000</td>\n",
        "      <td>    1.000000</td>\n",
        "    </tr>\n",
        "    <tr>\n",
        "      <th>50%</th>\n",
        "      <td>  63.000000</td>\n",
        "      <td> 1.105770e+05</td>\n",
        "      <td>   10.000000</td>\n",
        "      <td>    11927.000000</td>\n",
        "      <td>    2.000000</td>\n",
        "    </tr>\n",
        "    <tr>\n",
        "      <th>75%</th>\n",
        "      <td>  92.000000</td>\n",
        "      <td> 3.844730e+05</td>\n",
        "      <td>   22.000000</td>\n",
        "      <td>    40673.000000</td>\n",
        "      <td>    5.000000</td>\n",
        "    </tr>\n",
        "    <tr>\n",
        "      <th>max</th>\n",
        "      <td> 123.000000</td>\n",
        "      <td> 1.191948e+08</td>\n",
        "      <td> 2017.000000</td>\n",
        "      <td> 23920637.000000</td>\n",
        "      <td> 1052.000000</td>\n",
        "    </tr>\n",
        "  </tbody>\n",
        "</table>\n",
        "</div>"
       ],
       "metadata": {},
       "output_type": "pyout",
       "prompt_number": 69,
       "text": [
        "             Rank    TotalGross  TotalTheaters        OpenGross  OpenTheatres\n",
        "count  117.000000  1.170000e+02     117.000000       117.000000    117.000000\n",
        "mean    61.478632  2.589937e+06     108.017094    263240.487179     28.017094\n",
        "std     35.957973  1.202926e+07     327.711842   2223313.827810    134.933124\n",
        "min      1.000000  1.088000e+03       1.000000       189.000000      1.000000\n",
        "25%     30.000000  1.823900e+04       2.000000      2996.000000      1.000000\n",
        "50%     63.000000  1.105770e+05      10.000000     11927.000000      2.000000\n",
        "75%     92.000000  3.844730e+05      22.000000     40673.000000      5.000000\n",
        "max    123.000000  1.191948e+08    2017.000000  23920637.000000   1052.000000"
       ]
      }
     ],
     "prompt_number": 69
    },
    {
     "cell_type": "code",
     "collapsed": false,
     "input": [
      "docums.describe()"
     ],
     "language": "python",
     "metadata": {},
     "outputs": [
      {
       "html": [
        "<div style=\"max-height:1000px;max-width:1500px;overflow:auto;\">\n",
        "<table border=\"1\" class=\"dataframe\">\n",
        "  <thead>\n",
        "    <tr style=\"text-align: right;\">\n",
        "      <th></th>\n",
        "      <th>Rank</th>\n",
        "      <th>TotalGross</th>\n",
        "      <th>TotalTheaters</th>\n",
        "      <th>OpenGross</th>\n",
        "      <th>OpenTheatres</th>\n",
        "    </tr>\n",
        "  </thead>\n",
        "  <tbody>\n",
        "    <tr>\n",
        "      <th>count</th>\n",
        "      <td> 1183.000000</td>\n",
        "      <td> 1.183000e+03</td>\n",
        "      <td> 1182.000000</td>\n",
        "      <td>     1183.000000</td>\n",
        "      <td> 1183.000000</td>\n",
        "    </tr>\n",
        "    <tr>\n",
        "      <th>mean</th>\n",
        "      <td>  630.240068</td>\n",
        "      <td> 8.998309e+05</td>\n",
        "      <td>   49.149746</td>\n",
        "      <td>   139098.340659</td>\n",
        "      <td>   26.612849</td>\n",
        "    </tr>\n",
        "    <tr>\n",
        "      <th>std</th>\n",
        "      <td>  363.412234</td>\n",
        "      <td> 5.359766e+06</td>\n",
        "      <td>  227.764590</td>\n",
        "      <td>  1326580.422373</td>\n",
        "      <td>  190.324748</td>\n",
        "    </tr>\n",
        "    <tr>\n",
        "      <th>min</th>\n",
        "      <td>    1.000000</td>\n",
        "      <td> 4.760000e+02</td>\n",
        "      <td>    1.000000</td>\n",
        "      <td>      189.000000</td>\n",
        "      <td>    1.000000</td>\n",
        "    </tr>\n",
        "    <tr>\n",
        "      <th>25%</th>\n",
        "      <td>  315.500000</td>\n",
        "      <td> 1.684200e+04</td>\n",
        "      <td>    2.000000</td>\n",
        "      <td>     3641.000000</td>\n",
        "      <td>    1.000000</td>\n",
        "    </tr>\n",
        "    <tr>\n",
        "      <th>50%</th>\n",
        "      <td>  632.000000</td>\n",
        "      <td> 6.029100e+04</td>\n",
        "      <td>    5.000000</td>\n",
        "      <td>     8044.000000</td>\n",
        "      <td>    1.000000</td>\n",
        "    </tr>\n",
        "    <tr>\n",
        "      <th>75%</th>\n",
        "      <td>  944.500000</td>\n",
        "      <td> 2.558030e+05</td>\n",
        "      <td>   16.000000</td>\n",
        "      <td>    21143.500000</td>\n",
        "      <td>    3.000000</td>\n",
        "    </tr>\n",
        "    <tr>\n",
        "      <th>max</th>\n",
        "      <td> 1264.000000</td>\n",
        "      <td> 1.191948e+08</td>\n",
        "      <td> 3118.000000</td>\n",
        "      <td> 29514054.000000</td>\n",
        "      <td> 3105.000000</td>\n",
        "    </tr>\n",
        "  </tbody>\n",
        "</table>\n",
        "</div>"
       ],
       "metadata": {},
       "output_type": "pyout",
       "prompt_number": 70,
       "text": [
        "              Rank    TotalGross  TotalTheaters        OpenGross  OpenTheatres\n",
        "count  1183.000000  1.183000e+03    1182.000000      1183.000000   1183.000000\n",
        "mean    630.240068  8.998309e+05      49.149746    139098.340659     26.612849\n",
        "std     363.412234  5.359766e+06     227.764590   1326580.422373    190.324748\n",
        "min       1.000000  4.760000e+02       1.000000       189.000000      1.000000\n",
        "25%     315.500000  1.684200e+04       2.000000      3641.000000      1.000000\n",
        "50%     632.000000  6.029100e+04       5.000000      8044.000000      1.000000\n",
        "75%     944.500000  2.558030e+05      16.000000     21143.500000      3.000000\n",
        "max    1264.000000  1.191948e+08    3118.000000  29514054.000000   3105.000000"
       ]
      }
     ],
     "prompt_number": 70
    },
    {
     "cell_type": "markdown",
     "metadata": {},
     "source": [
      "#### Conclusion: there are very few exceptions in terms of money made"
     ]
    },
    {
     "cell_type": "markdown",
     "metadata": {},
     "source": [
      "---\n",
      "### Plot Total Gross V Number of theaters"
     ]
    },
    {
     "cell_type": "code",
     "collapsed": false,
     "input": [
      "cinemas = []\n",
      "for value in political['TotalTheaters'].values:\n",
      "    cinemas.append(value)\n",
      "all_cinemas = []\n",
      "for value in docums['TotalTheaters'].values:\n",
      "    all_cinemas.append(value)"
     ],
     "language": "python",
     "metadata": {},
     "outputs": [],
     "prompt_number": 88
    },
    {
     "cell_type": "code",
     "collapsed": false,
     "input": [
      "plt.plot(cinemas, gross, 'ro')\n",
      "plt.title('Does the number of cinemas contribute to the total box office?\\n')\n",
      "plt.xlabel('Number of cinemas')\n",
      "plt.ylabel('Box Office (millions)')"
     ],
     "language": "python",
     "metadata": {},
     "outputs": [
      {
       "metadata": {},
       "output_type": "pyout",
       "prompt_number": 84,
       "text": [
        "<matplotlib.text.Text at 0x112ee5f90>"
       ]
      },
      {
       "metadata": {},
       "output_type": "display_data",
       "png": "[encoded data removed]",
       "text": [
        "<matplotlib.figure.Figure at 0x112db2b50>"
       ]
      }
     ],
     "prompt_number": 84
    },
    {
     "cell_type": "code",
     "collapsed": false,
     "input": [
      "plt.plot(cinemas, gross, 'ro')\n",
      "plt.title('Let\\'s look at a zoomed area\\n')\n",
      "plt.xlabel('Number of cinemas')\n",
      "plt.ylabel('Box Office (millions)')\n",
      "plt.xlim(xmax=100)\n",
      "plt.ylim(ymax=5)"
     ],
     "language": "python",
     "metadata": {},
     "outputs": [
      {
       "metadata": {},
       "output_type": "pyout",
       "prompt_number": 92,
       "text": [
        "(0.0, 5)"
       ]
      },
      {
       "metadata": {},
       "output_type": "display_data",
       "png": "[encoded data removed]",
       "text": [
        "<matplotlib.figure.Figure at 0x113134550>"
       ]
      }
     ],
     "prompt_number": 92
    },
    {
     "cell_type": "code",
     "collapsed": false,
     "input": [
      "plt.plot(all_cinemas, all_gross, 'gs')\n",
      "plt.title('Does the number of cinemas contribute to the total box office?\\n')\n",
      "plt.xlabel('Number of cinemas')\n",
      "plt.ylabel('Box Office (millions)')"
     ],
     "language": "python",
     "metadata": {},
     "outputs": [
      {
       "metadata": {},
       "output_type": "pyout",
       "prompt_number": 89,
       "text": [
        "<matplotlib.text.Text at 0x1138e09d0>"
       ]
      },
      {
       "metadata": {},
       "output_type": "display_data",
       "png": "[encoded data removed]",
       "text": [
        "<matplotlib.figure.Figure at 0x113780050>"
       ]
      }
     ],
     "prompt_number": 89
    },
    {
     "cell_type": "code",
     "collapsed": false,
     "input": [
      "plt.plot(all_cinemas, all_gross, 'gs')\n",
      "plt.title('Let\\'s look at a zoomed area\\n')\n",
      "plt.xlabel('Number of cinemas')\n",
      "plt.ylabel('Box Office (millions)')\n",
      "plt.xlim(xmax=500)\n",
      "plt.ylim(ymax=30)"
     ],
     "language": "python",
     "metadata": {},
     "outputs": [
      {
       "metadata": {},
       "output_type": "pyout",
       "prompt_number": 90,
       "text": [
        "(0.0, 30)"
       ]
      },
      {
       "metadata": {},
       "output_type": "display_data",
       "png": "[encoded data removed]",
       "text": [
        "<matplotlib.figure.Figure at 0x113a9a4d0>"
       ]
      }
     ],
     "prompt_number": 90
    },
    {
     "cell_type": "markdown",
     "metadata": {},
     "source": [
      "#### Conclusion: nothing to report\n",
      "\n",
      "---\n",
      "\n",
      "### Has there been a time in which people started making more documentaries?"
     ]
    },
    {
     "cell_type": "code",
     "collapsed": false,
     "input": [
      "from matplotlib.dates import date2num"
     ],
     "language": "python",
     "metadata": {},
     "outputs": [],
     "prompt_number": 117
    },
    {
     "cell_type": "code",
     "collapsed": false,
     "input": [
      "reload(dataframe_utils)\n",
      "political_dates = dataframe_utils.dt64_to_dt(dates)"
     ],
     "language": "python",
     "metadata": {},
     "outputs": [],
     "prompt_number": 152
    },
    {
     "cell_type": "code",
     "collapsed": false,
     "input": [
      "from matplotlib import ticker\n",
      "from matplotlib.dates import num2date\n",
      "\n",
      "plt.hist(date2num(political_dates), cumulative=True, bins=28)\n",
      "plt.title('How does the number of political documentaries increase over time?\\n')\n",
      "plt.ylabel('Cumulative number of documentaries')\n",
      "# The format for the x axis is set to the chosen string, as defined from a numerical date:\n",
      "plt.gca().xaxis.set_major_formatter(ticker.FuncFormatter(lambda numdate, _: num2date(numdate).strftime('%Y-%d-%m')))\n",
      "# The formatting proper is done:\n",
      "plt.gcf().autofmt_xdate()\n",
      "# To show the result:\n",
      "# plt.show()  # or draw(), if you don't want to block\n",
      "plt.savefig(\"/Users/es575/Metis/Projects/ProjectLuther/Cumulative_political_bydate.pdf\", format='Pdf')"
     ],
     "language": "python",
     "metadata": {},
     "outputs": [
      {
       "metadata": {},
       "output_type": "display_data",
       "png": "[encoded data removed]",
       "text": [
        "<matplotlib.figure.Figure at 0x1136b3550>"
       ]
      }
     ],
     "prompt_number": 175
    },
    {
     "cell_type": "code",
     "collapsed": false,
     "input": [
      "docums_dates = dataframe_utils.dt64_to_dt(all_dates)"
     ],
     "language": "python",
     "metadata": {},
     "outputs": [],
     "prompt_number": 160
    },
    {
     "cell_type": "code",
     "collapsed": false,
     "input": [
      "plt.hist(date2num(docums_dates), cumulative=True, bins=28, color='g')\n",
      "plt.title('How does the number of all documentaries increase over time?\\n')\n",
      "plt.ylabel('Cumulative number of documentaries')\n",
      "plt.gca().xaxis.set_major_formatter(ticker.FuncFormatter(lambda numdate, _: num2date(numdate).strftime('%Y-%d-%m')))\n",
      "plt.gcf().autofmt_xdate()\n",
      "# plt.show()\n",
      "plt.savefig(\"/Users/es575/Metis/Projects/ProjectLuther/Cumulative_docums_bydate.pdf\")"
     ],
     "language": "python",
     "metadata": {},
     "outputs": [
      {
       "metadata": {},
       "output_type": "display_data",
       "png": "[encoded data removed]",
       "text": [
        "<matplotlib.figure.Figure at 0x113da9890>"
       ]
      }
     ],
     "prompt_number": 179
    },
    {
     "cell_type": "code",
     "collapsed": false,
     "input": [
      "help(plt.hist)"
     ],
     "language": "python",
     "metadata": {},
     "outputs": [
      {
       "output_type": "stream",
       "stream": "stdout",
       "text": [
        "Help on function hist in module matplotlib.pyplot:\n",
        "\n",
        "hist(x, bins=10, range=None, normed=False, weights=None, cumulative=False, bottom=None, histtype=u'bar', align=u'mid', orientation=u'vertical', rwidth=None, log=False, color=None, label=None, stacked=False, hold=None, **kwargs)\n",
        "    Plot a histogram.\n",
        "    \n",
        "    Compute and draw the histogram of *x*. The return value is a\n",
        "    tuple (*n*, *bins*, *patches*) or ([*n0*, *n1*, ...], *bins*,\n",
        "    [*patches0*, *patches1*,...]) if the input contains multiple\n",
        "    data.\n",
        "    \n",
        "    Multiple data can be provided via *x* as a list of datasets\n",
        "    of potentially different length ([*x0*, *x1*, ...]), or as\n",
        "    a 2-D ndarray in which each column is a dataset.  Note that\n",
        "    the ndarray form is transposed relative to the list form.\n",
        "    \n",
        "    Masked arrays are not supported at present.\n",
        "    \n",
        "    Parameters\n",
        "    ----------\n",
        "    x : (n,) array or sequence of (n,) arrays\n",
        "        Input values, this takes either a single array or a sequency of\n",
        "        arrays which are not required to be of the same length\n",
        "    \n",
        "    bins : integer or array_like, optional, default: 10\n",
        "        If an integer is given, `bins + 1` bin edges are returned,\n",
        "        consistently with :func:`numpy.histogram` for numpy version >=\n",
        "        1.3.\n",
        "    \n",
        "        Unequally spaced bins are supported if `bins` is a sequence.\n",
        "    \n",
        "    range : tuple, optional, default: None\n",
        "        The lower and upper range of the bins. Lower and upper outliers\n",
        "        are ignored. If not provided, `range` is (x.min(), x.max()). Range\n",
        "        has no effect if `bins` is a sequence.\n",
        "    \n",
        "        If `bins` is a sequence or `range` is specified, autoscaling\n",
        "        is based on the specified bin range instead of the\n",
        "        range of x.\n",
        "    \n",
        "    normed : boolean, optional, default: False\n",
        "        If `True`, the first element of the return tuple will\n",
        "        be the counts normalized to form a probability density, i.e.,\n",
        "        ``n/(len(x)`dbin)``, ie the integral of the histogram will sum to\n",
        "        1. If *stacked* is also *True*, the sum of the histograms is\n",
        "        normalized to 1.\n",
        "    \n",
        "    weights : array_like, shape (n, ), optional, default: None\n",
        "        An array of weights, of the same shape as `x`.  Each value in `x`\n",
        "        only contributes its associated weight towards the bin count\n",
        "        (instead of 1).  If `normed` is True, the weights are normalized,\n",
        "        so that the integral of the density over the range remains 1.\n",
        "    \n",
        "    cumulative : boolean, optional, default : False\n",
        "        If `True`, then a histogram is computed where each bin gives the\n",
        "        counts in that bin plus all bins for smaller values. The last bin\n",
        "        gives the total number of datapoints.  If `normed` is also `True`\n",
        "        then the histogram is normalized such that the last bin equals 1.\n",
        "        If `cumulative` evaluates to less than 0 (e.g., -1), the direction\n",
        "        of accumulation is reversed.  In this case, if `normed` is also\n",
        "        `True`, then the histogram is normalized such that the first bin\n",
        "        equals 1.\n",
        "    \n",
        "    bottom : array_like, scalar, or None, default: None\n",
        "        Location of the bottom baseline of each bin.  If a scalar,\n",
        "        the base line for each bin is shifted by the same amount.\n",
        "        If an array, each bin is shifted independently and the length\n",
        "        of bottom must match the number of bins.  If None, defaults to 0.\n",
        "    \n",
        "    histtype : ['bar' | 'barstacked' | 'step' | 'stepfilled'], optional\n",
        "        The type of histogram to draw.\n",
        "    \n",
        "        - 'bar' is a traditional bar-type histogram.  If multiple data\n",
        "          are given the bars are aranged side by side.\n",
        "    \n",
        "        - 'barstacked' is a bar-type histogram where multiple\n",
        "          data are stacked on top of each other.\n",
        "    \n",
        "        - 'step' generates a lineplot that is by default\n",
        "          unfilled.\n",
        "    \n",
        "        - 'stepfilled' generates a lineplot that is by default\n",
        "          filled.\n",
        "    \n",
        "    align : ['left' | 'mid' | 'right'], optional, default: 'mid'\n",
        "        Controls how the histogram is plotted.\n",
        "    \n",
        "            - 'left': bars are centered on the left bin edges.\n",
        "    \n",
        "            - 'mid': bars are centered between the bin edges.\n",
        "    \n",
        "            - 'right': bars are centered on the right bin edges.\n",
        "    \n",
        "    orientation : ['horizontal' | 'vertical'], optional\n",
        "        If 'horizontal', `~matplotlib.pyplot.barh` will be used for\n",
        "        bar-type histograms and the *bottom* kwarg will be the left edges.\n",
        "    \n",
        "    rwidth : scalar, optional, default: None\n",
        "        The relative width of the bars as a fraction of the bin width.  If\n",
        "        `None`, automatically compute the width. Ignored if `histtype` =\n",
        "        'step' or 'stepfilled'.\n",
        "    \n",
        "    log : boolean, optional, default : False\n",
        "        If `True`, the histogram axis will be set to a log scale. If `log`\n",
        "        is `True` and `x` is a 1D array, empty bins will be filtered out\n",
        "        and only the non-empty (`n`, `bins`, `patches`) will be returned.\n",
        "    \n",
        "    color : color or array_like of colors, optional, default: None\n",
        "        Color spec or sequence of color specs, one per dataset.  Default\n",
        "        (`None`) uses the standard line color sequence.\n",
        "    \n",
        "    label : string, optional, default: ''\n",
        "        String, or sequence of strings to match multiple datasets.  Bar\n",
        "        charts yield multiple patches per dataset, but only the first gets\n",
        "        the label, so that the legend command will work as expected.\n",
        "    \n",
        "    stacked : boolean, optional, default : False\n",
        "        If `True`, multiple data are stacked on top of each other If\n",
        "        `False` multiple data are aranged side by side if histtype is\n",
        "        'bar' or on top of each other if histtype is 'step'\n",
        "    \n",
        "    Returns\n",
        "    -------\n",
        "    n : array or list of arrays\n",
        "        The values of the histogram bins. See **normed** and **weights**\n",
        "        for a description of the possible semantics. If input **x** is an\n",
        "        array, then this is an array of length **nbins**. If input is a\n",
        "        sequence arrays ``[data1, data2,..]``, then this is a list of\n",
        "        arrays with the values of the histograms for each of the arrays\n",
        "        in the same order.\n",
        "    \n",
        "    bins : array\n",
        "        The edges of the bins. Length nbins + 1 (nbins left edges and right\n",
        "        edge of last bin).  Always a single array even when multiple data\n",
        "        sets are passed in.\n",
        "    \n",
        "    patches : list or list of lists\n",
        "        Silent list of individual patches used to create the histogram\n",
        "        or list of such list if multiple input datasets.\n",
        "    \n",
        "    Other Parameters\n",
        "    ----------------\n",
        "    kwargs : `~matplotlib.patches.Patch` properties\n",
        "    \n",
        "    See also\n",
        "    --------\n",
        "    hist2d : 2D histograms\n",
        "    \n",
        "    Notes\n",
        "    -----\n",
        "    Until numpy release 1.5, the underlying numpy histogram function was\n",
        "    incorrect with `normed`=`True` if bin sizes were unequal.  MPL\n",
        "    inherited that error.  It is now corrected within MPL when using\n",
        "    earlier numpy versions.\n",
        "    \n",
        "    Examples\n",
        "    --------\n",
        "    .. plot:: mpl_examples/statistics/histogram_demo_features.py\n",
        "    \n",
        "    \n",
        "    \n",
        "    Additional kwargs: hold = [True|False] overrides default hold state\n",
        "\n"
       ]
      }
     ],
     "prompt_number": 177
    },
    {
     "cell_type": "code",
     "collapsed": false,
     "input": [],
     "language": "python",
     "metadata": {},
     "outputs": []
    }
   ],
   "metadata": {}
  }
 ]
}