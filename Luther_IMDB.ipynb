{
 "metadata": {
  "name": "",
  "signature": "sha256:2ddc21f8d32c8461758b3e0c53bb35dc829331309fab81c6887052ecc71076eb"
 },
 "nbformat": 3,
 "nbformat_minor": 0,
 "worksheets": [
  {
   "cells": [
    {
     "cell_type": "markdown",
     "metadata": {},
     "source": [
      "# IMDB movies for Project Luther"
     ]
    },
    {
     "cell_type": "code",
     "collapsed": false,
     "input": [
      "import pickle as pkl\n",
      "import pandas as pd\n",
      "import numpy as np\n",
      "%matplotlib inline\n",
      "import matplotlib.pyplot as plt\n",
      "from sys import path\n",
      "path.append('/Users/JerkFace/Metis/Projects/Luther/')\n",
      "import IMDB_utils"
     ],
     "language": "python",
     "metadata": {},
     "outputs": [],
     "prompt_number": 2
    },
    {
     "cell_type": "code",
     "collapsed": false,
     "input": [
      "reload(IMDB_utils)\n",
      "imdb_dict = IMDB_utils.get_pickles('/Users/JerkFace/Dropbox/Metis_Dropbox/Datasets/Luther/')"
     ],
     "language": "python",
     "metadata": {},
     "outputs": [],
     "prompt_number": 3
    },
    {
     "cell_type": "code",
     "collapsed": false,
     "input": [
      "df = IMDB_utils.dict_to_dataframe(imdb_dict)\n",
      "df['TotalGross'] = IMDB_utils.str_to_dollars(df['TotalGross'])\n",
      "df['RelYear'] = IMDB_utils.str_to_year(df['RelYear'])\n",
      "df['UsersRating'] = IMDB_utils.str_to_ratings(df['UsersRating'])\n",
      "df['NumVoters'] = IMDB_utils.str_to_voters(df['NumVoters'])\n",
      "df['Rank'] = IMDB_utils.str_to_rank(df['Rank'])\n",
      "df['RunTime'] = IMDB_utils.str_to_runtime(df['RunTime'])\n",
      "IMDB_df = df.sort(['Rank'])"
     ],
     "language": "python",
     "metadata": {},
     "outputs": [],
     "prompt_number": 4
    },
    {
     "cell_type": "code",
     "collapsed": false,
     "input": [
      "with open('/Users/JerkFace/Metis/Projects/Luther/IMDB_df.pkl', 'w') as pklfile:\n",
      "    pkl.dump(IMDB_df, pklfile)"
     ],
     "language": "python",
     "metadata": {},
     "outputs": [],
     "prompt_number": 15
    },
    {
     "cell_type": "code",
     "collapsed": false,
     "input": [],
     "language": "python",
     "metadata": {},
     "outputs": []
    }
   ],
   "metadata": {}
  }
 ]
}