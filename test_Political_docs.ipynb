{
 "metadata": {
  "name": "",
  "signature": "sha256:49b82868887276161527057e9f8a7669f2940673be0c2078b53264250cb9f811"
 },
 "nbformat": 3,
 "nbformat_minor": 0,
 "worksheets": [
  {
   "cells": [
    {
     "cell_type": "code",
     "collapsed": false,
     "input": [
      "import sys\n",
      "sys.path.append('/Users/JerkFace/Metis/Projects/Luther/')\n",
      "\n",
      "import scrape_utils"
     ],
     "language": "python",
     "metadata": {},
     "outputs": [],
     "prompt_number": 1
    },
    {
     "cell_type": "code",
     "collapsed": false,
     "input": [
      "import urllib2\n",
      "from bs4 import BeautifulSoup\n",
      "\n",
      "url = 'http://boxofficemojo.com/genres/chart/?id=politicaldoc.htm'\n",
      "page = urllib2.urlopen(url)\n",
      "soup = BeautifulSoup(page)"
     ],
     "language": "python",
     "metadata": {},
     "outputs": [],
     "prompt_number": 2
    },
    {
     "cell_type": "code",
     "collapsed": false,
     "input": [
      "nav_tabs = soup.find(class_=\"nav_tabs\")"
     ],
     "language": "python",
     "metadata": {},
     "outputs": [],
     "prompt_number": 3
    },
    {
     "cell_type": "code",
     "collapsed": false,
     "input": [
      "movie_table = scrape_utils.find_following_table(nav_tabs)"
     ],
     "language": "python",
     "metadata": {},
     "outputs": [],
     "prompt_number": 4
    },
    {
     "cell_type": "code",
     "collapsed": false,
     "input": [
      "row_count = 0\n",
      "movie_dict = {}\n",
      "for row in movie_table.findAll('tr'):\n",
      "    if row_count == 3:\n",
      "        break\n",
      "    cells = row.findAll('td')\n",
      "    if len(cells) == 8:\n",
      "        rank = cells[0]\n",
      "        title = cells[1]\n",
      "        studio = cells[2]\n",
      "        tot_gross = cells[3]\n",
      "        tot_theatres = cells[4]\n",
      "        opn_gross = cells[5]\n",
      "        opn_theatres = cells[6]\n",
      "        rel_date = cells[7]\n",
      "        \n",
      "    row_count += 1\n",
      "    "
     ],
     "language": "python",
     "metadata": {},
     "outputs": [
      {
       "output_type": "stream",
       "stream": "stdout",
       "text": [
        "Fahrenheit 9/11 Lions $119,194,771 2,011\n",
        "$23,920,637 868 6/23/04\n",
        "2016 Obama's America RM $33,449,086 2,017\n",
        "$31,610 1 7/13/12\n",
        "Sicko LGF $24,540,079 1,117\n",
        "$68,969 1 6/22/07\n"
       ]
      }
     ],
     "prompt_number": 23
    },
    {
     "cell_type": "code",
     "collapsed": false,
     "input": [
      "movie_dict = scrape_utils.movie_links_from_table(movie_table)"
     ],
     "language": "python",
     "metadata": {},
     "outputs": [],
     "prompt_number": 6
    },
    {
     "cell_type": "code",
     "collapsed": false,
     "input": [
      "movie_dict"
     ],
     "language": "python",
     "metadata": {},
     "outputs": [
      {
       "metadata": {},
       "output_type": "pyout",
       "prompt_number": 23,
       "text": [
        "{u\"2016 Obama's America\": 'boxofficemojo.com/movies/?id=2016obamasamerica.htm',\n",
        " u'A Perfect Candidate': 'boxofficemojo.com/movies/?id=perfectcandidate.htm',\n",
        " u'A Place Called Chiapas': 'boxofficemojo.com/movies/?id=placecalledchiapas.htm',\n",
        " u'Ai Weiwei: Never Sorry': 'boxofficemojo.com/movies/?id=aiweiweineversorry.htm',\n",
        " u'Al Franken: God Spoke': 'boxofficemojo.com/movies/?id=alfrankengodspoke.htm',\n",
        " u'America (2014)': 'boxofficemojo.com/movies/?id=america2014.htm',\n",
        " u'America: Freedom to Fascism': 'boxofficemojo.com/movies/?id=america:freedomtofascism.htm',\n",
        " u'An Inconvenient Truth': 'boxofficemojo.com/movies/?id=inconvenienttruth.htm',\n",
        " u'An Unreasonable Man': 'boxofficemojo.com/movies/?id=unreasonableman.htm',\n",
        " u'Ballot Measure 9': 'boxofficemojo.com/movies/?id=ballotmeasure9.htm',\n",
        " u'Body of War': 'boxofficemojo.com/movies/?id=bodyofwar.htm',\n",
        " u'Boogie Man: The Lee Atwater Story': 'boxofficemojo.com/movies/?id=boogieman08.htm',\n",
        " u'Bowling for Columbine': 'boxofficemojo.com/movies/?id=bowlingforcolumbine.htm',\n",
        " u'Brothers at War': 'boxofficemojo.com/movies/?id=brothersatwar.htm',\n",
        " u\"Bush's Brain\": 'boxofficemojo.com/movies/?id=bushsbrain.htm',\n",
        " u'Call + Response': 'boxofficemojo.com/movies/?id=callresponse.htm',\n",
        " u'Can Mr. Smith Get to Washington Anymore?': 'boxofficemojo.com/movies/?id=canmrsmithgettowashingtonanymore.htm',\n",
        " u'Capitalism: A Love Story': 'boxofficemojo.com/movies/?id=michaelmoore09.htm',\n",
        " u'Casino Jack and the United States of Money': 'boxofficemojo.com/movies/?id=casinojack.htm',\n",
        " u'Caucus': 'boxofficemojo.com/movies/?id=caucus.htm',\n",
        " u'Celsius 41.11: The Truth Behind the Lies of Fahrenheit 9/11': 'boxofficemojo.com/movies/?id=celsius4111.htm',\n",
        " u'Chicago 10': 'boxofficemojo.com/movies/?id=chicago10.htm',\n",
        " u'Citizen Koch': 'boxofficemojo.com/movies/?id=citizenkoch.htm',\n",
        " u'Citizenfour': 'boxofficemojo.com/movies/?id=citizenfour.htm',\n",
        " u'Client 9: The Rise and Fall of Eliot Spitzer': 'boxofficemojo.com/movies/?id=client9.htm',\n",
        " u'Control Room': 'boxofficemojo.com/movies/?id=controlroom.htm',\n",
        " u'Dirty Wars': 'boxofficemojo.com/movies/?id=dirtywars.htm',\n",
        " u'Earth Days': 'boxofficemojo.com/movies/?id=earthdays.htm',\n",
        " u'Escape Fire': 'boxofficemojo.com/movies/?id=escapefire.htm',\n",
        " u'Ever Again': 'boxofficemojo.com/movies/?id=everagain.htm',\n",
        " u'Expelled: No Intelligence Allowed': 'boxofficemojo.com/movies/?id=expelled.htm',\n",
        " u'FLOW: For Love of Water': 'boxofficemojo.com/movies/?id=flow08.htm',\n",
        " u'Fahrenheit 9/11': 'boxofficemojo.com/movies/?id=fahrenheit911.htm',\n",
        " u'Feed': 'boxofficemojo.com/movies/?id=feed.htm',\n",
        " u'Fidel': 'boxofficemojo.com/movies/?id=fidel.htm',\n",
        " u'For the Bible Tells Me So': 'boxofficemojo.com/movies/?id=forthebibletellsmeso.htm',\n",
        " u'Giuliani Time': 'boxofficemojo.com/movies/?id=giulianitime.htm',\n",
        " u'Going Upriver: The Long War of John Kerry': 'boxofficemojo.com/movies/?id=goingupriver.htm',\n",
        " u'Granito: How to Nail a Dictator': 'boxofficemojo.com/movies/?id=granito.htm',\n",
        " u'Grass': 'boxofficemojo.com/movies/?id=grass.htm',\n",
        " u'Hating Breitbart': 'boxofficemojo.com/movies/?id=hatingbreitbart.htm',\n",
        " u\"Howard Zinn: You Can't Be Neutral on a Moving Train\": 'boxofficemojo.com/movies/?id=howardzinn.htm',\n",
        " u'I Want Your Money': 'boxofficemojo.com/movies/?id=iwantyourmoney.htm',\n",
        " u'I.O.U.S.A.': 'boxofficemojo.com/movies/?id=iousa.htm',\n",
        " u\"In the Face of Evil: Reagan's War in Word and Deed\": 'boxofficemojo.com/movies/?id=inthefaceofevil.htm',\n",
        " u'Inequality for All': 'boxofficemojo.com/movies/?id=inequalityforall.htm',\n",
        " u'Inside Job': 'boxofficemojo.com/movies/?id=insidejob.htm',\n",
        " u'Iraq in Fragments': 'boxofficemojo.com/movies/?id=iraqinfragments.htm',\n",
        " u'Koch': 'boxofficemojo.com/movies/?id=koch.htm',\n",
        " u'Lake of Fire': 'boxofficemojo.com/movies/?id=lakeoffire.htm',\n",
        " u'Meeting Resistance': 'boxofficemojo.com/movies/?id=meetingresistance.htm',\n",
        " u'My Country, My Country': 'boxofficemojo.com/movies/?id=mycountrymycountry.htm',\n",
        " u'No End in Sight': 'boxofficemojo.com/movies/?id=noendinsight.htm',\n",
        " u'Occupy Unmasked': 'boxofficemojo.com/movies/?id=occupyunmasked.htm',\n",
        " u'Orwell Rolls in His Grave': 'boxofficemojo.com/movies/?id=orwellrollsinhisgrave.htm',\n",
        " u'Our Brand Is Crisis': 'boxofficemojo.com/movies/?id=ourbrandiscrisis.htm',\n",
        " u'Our Nixon': 'boxofficemojo.com/movies/?id=ournixon.htm',\n",
        " u\"Outfoxed: Rupert Murdoch's War on Journalism\": 'boxofficemojo.com/movies/?id=outfoxed.htm',\n",
        " u'Outrage': 'boxofficemojo.com/movies/?id=outrage09.htm',\n",
        " u\"Pay 2 Play: Democracy's High Stakes\": 'boxofficemojo.com/movies/?id=pay2play.htm',\n",
        " u'Power and Terror: Noam Chomsky in Our Times': 'boxofficemojo.com/movies/?id=powerandterror.htm',\n",
        " u'Roger and Me': 'boxofficemojo.com/movies/?id=rogerandme.htm',\n",
        " u'Sarah Palin - You Betcha!': 'boxofficemojo.com/movies/?id=sarahpalin.htm',\n",
        " u'Shake Hands with the Devil: The Journey of Romeo Dallaire': 'boxofficemojo.com/movies/?id=shakehandswiththedevil.htm',\n",
        " u'Shoot Down': 'boxofficemojo.com/movies/?id=shootdown.htm',\n",
        " u'Sicko': 'boxofficemojo.com/movies/?id=sicko.htm',\n",
        " u'Suicide Killers': 'boxofficemojo.com/movies/?id=suicidekillers.htm',\n",
        " u'Taxi to the Dark Side': 'boxofficemojo.com/movies/?id=taxitothedarkside.htm',\n",
        " u'The Big One': 'boxofficemojo.com/movies/?id=bigone.htm',\n",
        " u'The Corporation': 'boxofficemojo.com/movies/?id=corporationus.htm',\n",
        " u'The Fog of War': 'boxofficemojo.com/movies/?id=fogofwar.htm',\n",
        " u'The Great Invisible': 'boxofficemojo.com/movies/?id=greatinvisible.htm',\n",
        " u'The Ground Truth': 'boxofficemojo.com/movies/?id=groundtruth.htm',\n",
        " u'The Hunting of the President': 'boxofficemojo.com/movies/?id=huntingofthepresident.htm',\n",
        " u'The Last Mountain': 'boxofficemojo.com/movies/?id=lastmountain.htm',\n",
        " u'The Last Party': 'boxofficemojo.com/movies/?id=lastparty.htm',\n",
        " u'The Most Dangerous Man in America: Daniel Ellsberg and the Pentagon Papers': 'boxofficemojo.com/movies/?id=themostdangerousmaninamerica.htm',\n",
        " u'The Panama Deception': 'boxofficemojo.com/movies/?id=panamadeception.htm',\n",
        " u'The Trials of Henry Kissinger': 'boxofficemojo.com/movies/?id=trialsofhenrykissinger.htm',\n",
        " u'The U.S. Vs. John Lennon': 'boxofficemojo.com/movies/?id=usvsjohnlennon.htm',\n",
        " u'The Undefeated (2011)': 'boxofficemojo.com/movies/?id=undefeated11.htm',\n",
        " u'The Unforeseen': 'boxofficemojo.com/movies/?id=unforeseen.htm',\n",
        " u'The Unknown Known': 'boxofficemojo.com/movies/?id=unknownknown.htm',\n",
        " u'The War Room': 'boxofficemojo.com/movies/?id=warroom.htm',\n",
        " u'The War Tapes': 'boxofficemojo.com/movies/?id=wartapes.htm',\n",
        " u'The Weather Underground': 'boxofficemojo.com/movies/?id=weatherunderground.htm',\n",
        " u'The Yes Men': 'boxofficemojo.com/movies/?id=yesmen.htm',\n",
        " u'The Yes Men Fix the World': 'boxofficemojo.com/movies/?id=yesmenfixtheworld.htm',\n",
        " u\"There's No Place Like Utopia\": 'boxofficemojo.com/movies/?id=utopia.htm',\n",
        " u'Tying the Knot': 'boxofficemojo.com/movies/?id=tyingtheknot.htm',\n",
        " u'Uncovered: The War on Iraq': 'boxofficemojo.com/movies/?id=uncovered.htm',\n",
        " u'Up for Grabs': 'boxofficemojo.com/movies/?id=upforgrabs.htm',\n",
        " u'Voices in Wartime': 'boxofficemojo.com/movies/?id=voicesinwartime.htm',\n",
        " u'Voices of Iraq': 'boxofficemojo.com/movies/?id=voicesofiraq.htm',\n",
        " u'Waco: The Rules of Engagement': 'boxofficemojo.com/movies/?id=waco.htm',\n",
        " u'Wall': 'boxofficemojo.com/movies/?id=wall.htm',\n",
        " u'Weapons of Mass Deception': 'boxofficemojo.com/movies/?id=weaponsofmassdeception.htm',\n",
        " u'Where in the World Is Osama Bin Laden?': 'boxofficemojo.com/movies/?id=whereintheworldisosamabinladen.htm',\n",
        " u'Why We Fight': 'boxofficemojo.com/movies/?id=whywefight.htm',\n",
        " u'Your Mommy Kills Animals': 'boxofficemojo.com/movies/?id=yourmommykillsanimals.htm'}"
       ]
      }
     ],
     "prompt_number": 23
    },
    {
     "cell_type": "code",
     "collapsed": false,
     "input": [],
     "language": "python",
     "metadata": {},
     "outputs": []
    }
   ],
   "metadata": {}
  }
 ]
}